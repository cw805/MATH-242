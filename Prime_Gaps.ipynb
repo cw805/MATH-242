{
  "nbformat": 4,
  "nbformat_minor": 0,
  "metadata": {
    "colab": {
      "name": "Prime Gaps.ipynb",
      "provenance": [],
      "authorship_tag": "ABX9TyNM1z8Kr2aEIL6BOOVCfobv",
      "include_colab_link": true
    },
    "kernelspec": {
      "name": "python3",
      "display_name": "Python 3"
    },
    "language_info": {
      "name": "python"
    }
  },
  "cells": [
    {
      "cell_type": "markdown",
      "metadata": {
        "id": "view-in-github",
        "colab_type": "text"
      },
      "source": [
        "<a href=\"https://colab.research.google.com/github/cw805/MATH-242/blob/main/Prime_Gaps.ipynb\" target=\"_parent\"><img src=\"https://colab.research.google.com/assets/colab-badge.svg\" alt=\"Open In Colab\"/></a>"
      ]
    },
    {
      "cell_type": "markdown",
      "source": [
        "# Prime gaps\n",
        "\n",
        "A prime gap is the difference between successive prime numbers. The first few prime gaps are 1, 2, 2, 4, 2, 4, . . .. What is the distribution of prime gaps? Compute the distribution the first n prime\n",
        "gaps for various choices of n and report on your observations. Do you think there is a most common prime gap? Explain."
      ],
      "metadata": {
        "id": "BF3GVo0s58wp"
      }
    },
    {
      "cell_type": "code",
      "execution_count": null,
      "metadata": {
        "id": "dTN97wz151rc"
      },
      "outputs": [],
      "source": [
        "import math   \n",
        "import sympy\n",
        "import numpy as np\n",
        "from collections import Counter "
      ]
    },
    {
      "cell_type": "markdown",
      "source": [
        "# As usual, first get a list of primes\n",
        "\n",
        "We will implement the Sieve of Eratosthenes function for a list of primes as it was the most efficient algorithm for calculating primes we found so far"
      ],
      "metadata": {
        "id": "T0TZF5sN6MEn"
      }
    },
    {
      "cell_type": "code",
      "source": [
        "def fastEratos(nMax):\n",
        "  \n",
        "  nums = list(range(2,nMax+1))\n",
        "  nroot = math.sqrt(nMax)\n",
        "\n",
        "  i = 0 \n",
        "  while nums[i] <= nroot:\n",
        "\n",
        "    if nums[i] > 0:   \n",
        "      j = i + nums[i]  \n",
        "      while j < len(nums):\n",
        "        nums[j] = 0\n",
        "        j += nums[i]    \n",
        "\n",
        "    i += 1 \n",
        "\n",
        "  primes = [n for n in nums if n != 0]\n",
        "  return primes"
      ],
      "metadata": {
        "id": "xf-TYG166Go8"
      },
      "execution_count": null,
      "outputs": []
    },
    {
      "cell_type": "code",
      "source": [
        "print(fastEratos(100))\n",
        "eratoslist = fastEratos(100)"
      ],
      "metadata": {
        "colab": {
          "base_uri": "https://localhost:8080/"
        },
        "id": "DYEeuj9y6Gmr",
        "outputId": "2e05b193-4dac-4df9-e08c-6112904a0fdc"
      },
      "execution_count": null,
      "outputs": [
        {
          "output_type": "stream",
          "name": "stdout",
          "text": [
            "[2, 3, 5, 7, 11, 13, 17, 19, 23, 29, 31, 37, 41, 43, 47, 53, 59, 61, 67, 71, 73, 79, 83, 89, 97]\n"
          ]
        }
      ]
    },
    {
      "cell_type": "markdown",
      "source": [
        "### Write a function that generates a list of prime gaps"
      ],
      "metadata": {
        "id": "sxaWMqPA7lGf"
      }
    },
    {
      "cell_type": "code",
      "source": [
        "def primeGap(nMax):\n",
        "\n",
        "  gaps = [n for n in fastEratos(nMax)]\n",
        "\n",
        "  gapList = list(np.diff(gaps)) # np.diff(gaps) is an array\n",
        "\n",
        "  return gapList"
      ],
      "metadata": {
        "id": "JEAQkUb06GkS"
      },
      "execution_count": null,
      "outputs": []
    },
    {
      "cell_type": "code",
      "source": [
        "gapslist = primeGap(1000000)\n",
        "print(gapslist)"
      ],
      "metadata": {
        "id": "o-3_7O1zFQPo"
      },
      "execution_count": null,
      "outputs": []
    },
    {
      "cell_type": "markdown",
      "source": [
        "### Count occurences of each gaps and find the most common gaps\n",
        "\n",
        "I've used these key-value dictionary methods in python before and know that are effective for tasks like these. Here we can use the built-in function Counter() in the collections module. It works by using key-value relationships so that we can count occurences of each \"key\" which are prime gaps, and then sort by its \"value,\" which are the occurences. Then, we can also sort the keys and see what's the largest key value"
      ],
      "metadata": {
        "id": "IWX0XXRtGm4N"
      }
    },
    {
      "cell_type": "code",
      "source": [
        "counts = Counter(gapslist)\n",
        "counts.most_common()"
      ],
      "metadata": {
        "colab": {
          "base_uri": "https://localhost:8080/"
        },
        "id": "gLfKLYHk6GhY",
        "outputId": "7d2eed22-75ab-4317-d1cb-d9d0163789da"
      },
      "execution_count": null,
      "outputs": [
        {
          "output_type": "execute_result",
          "data": {
            "text/plain": [
              "[(6, 13549),\n",
              " (2, 8169),\n",
              " (4, 8143),\n",
              " (12, 8005),\n",
              " (10, 7079),\n",
              " (8, 5569),\n",
              " (18, 4909),\n",
              " (14, 4233),\n",
              " (16, 2881),\n",
              " (24, 2682),\n",
              " (20, 2401),\n",
              " (22, 2172),\n",
              " (30, 1914),\n",
              " (28, 1234),\n",
              " (26, 1175),\n",
              " (36, 767),\n",
              " (34, 557),\n",
              " (32, 550),\n",
              " (42, 476),\n",
              " (40, 424),\n",
              " (38, 330),\n",
              " (44, 202),\n",
              " (48, 196),\n",
              " (46, 155),\n",
              " (54, 140),\n",
              " (50, 106),\n",
              " (60, 96),\n",
              " (52, 77),\n",
              " (58, 54),\n",
              " (56, 53),\n",
              " (66, 48),\n",
              " (64, 24),\n",
              " (70, 22),\n",
              " (62, 16),\n",
              " (72, 13),\n",
              " (68, 13),\n",
              " (78, 13),\n",
              " (74, 12),\n",
              " (76, 6),\n",
              " (84, 6),\n",
              " (82, 5),\n",
              " (86, 4),\n",
              " (90, 4),\n",
              " (80, 3),\n",
              " (96, 2),\n",
              " (100, 2),\n",
              " (1, 1),\n",
              " (112, 1),\n",
              " (114, 1),\n",
              " (88, 1),\n",
              " (98, 1),\n",
              " (92, 1)]"
            ]
          },
          "metadata": {},
          "execution_count": 9
        }
      ]
    },
    {
      "cell_type": "code",
      "source": [
        "sorted(counts)"
      ],
      "metadata": {
        "colab": {
          "base_uri": "https://localhost:8080/"
        },
        "id": "ZFoIZpieEGRs",
        "outputId": "e7706616-c62b-41f7-901d-2fc00620e7e9"
      },
      "execution_count": null,
      "outputs": [
        {
          "output_type": "execute_result",
          "data": {
            "text/plain": [
              "[1,\n",
              " 2,\n",
              " 4,\n",
              " 6,\n",
              " 8,\n",
              " 10,\n",
              " 12,\n",
              " 14,\n",
              " 16,\n",
              " 18,\n",
              " 20,\n",
              " 22,\n",
              " 24,\n",
              " 26,\n",
              " 28,\n",
              " 30,\n",
              " 32,\n",
              " 34,\n",
              " 36,\n",
              " 38,\n",
              " 40,\n",
              " 42,\n",
              " 44,\n",
              " 46,\n",
              " 48,\n",
              " 50,\n",
              " 52,\n",
              " 54,\n",
              " 56,\n",
              " 58,\n",
              " 60,\n",
              " 62,\n",
              " 64,\n",
              " 66,\n",
              " 68,\n",
              " 70,\n",
              " 72,\n",
              " 74,\n",
              " 76,\n",
              " 78,\n",
              " 80,\n",
              " 82,\n",
              " 84,\n",
              " 86,\n",
              " 88,\n",
              " 90,\n",
              " 92,\n",
              " 96,\n",
              " 98,\n",
              " 100,\n",
              " 112,\n",
              " 114]"
            ]
          },
          "metadata": {},
          "execution_count": 10
        }
      ]
    },
    {
      "cell_type": "markdown",
      "source": [
        "### Observation\n",
        "\n",
        "\n",
        "For up to 1 million starting values n, 6 is the most common prime gap, and the largest prime gap is 114."
      ],
      "metadata": {
        "id": "DOCWfMwXqMMX"
      }
    }
  ]
}