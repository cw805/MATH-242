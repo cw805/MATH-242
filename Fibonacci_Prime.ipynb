{
  "nbformat": 4,
  "nbformat_minor": 0,
  "metadata": {
    "colab": {
      "name": "Fibonacci Prime.ipynb",
      "provenance": [],
      "authorship_tag": "ABX9TyPVETfUKzvTte9Aa43k9UR/",
      "include_colab_link": true
    },
    "kernelspec": {
      "name": "python3",
      "display_name": "Python 3"
    },
    "language_info": {
      "name": "python"
    }
  },
  "cells": [
    {
      "cell_type": "markdown",
      "metadata": {
        "id": "view-in-github",
        "colab_type": "text"
      },
      "source": [
        "<a href=\"https://colab.research.google.com/github/cw805/MATH-242/blob/main/Fibonacci_Prime.ipynb\" target=\"_parent\"><img src=\"https://colab.research.google.com/assets/colab-badge.svg\" alt=\"Open In Colab\"/></a>"
      ]
    },
    {
      "cell_type": "markdown",
      "source": [
        "#Fibonacci primes\n",
        "\n",
        "Which Fibonacci numbers are prime? Compute the number of Fibonacci primes up to the nth Fibonacci number $F_n$, for various choices of $n$. Discuss your observations. Do you think there are infinitely many Fibonacci primes? Explain."
      ],
      "metadata": {
        "id": "r31i0iyI0Kau"
      }
    },
    {
      "cell_type": "code",
      "execution_count": null,
      "metadata": {
        "id": "qfYLsz62yPiY"
      },
      "outputs": [],
      "source": [
        "import math\n",
        "import numpy as np\n",
        "import scipy\n",
        "import sys\n",
        "from sympy import divisors\n",
        "from sympy import isprime, primefactors"
      ]
    },
    {
      "cell_type": "markdown",
      "source": [
        "### First, we make a list of regular fibonacci numbers"
      ],
      "metadata": {
        "id": "pigjApce0n-w"
      }
    },
    {
      "cell_type": "code",
      "source": [
        "def fibonacci(n):  \n",
        "    result = []\n",
        "    a, b = 0, 1\n",
        "    while a < n:\n",
        "        result.append(a)\n",
        "        a, b = b, a+b\n",
        "    return result"
      ],
      "metadata": {
        "id": "dLE6Q1clycN1"
      },
      "execution_count": null,
      "outputs": []
    },
    {
      "cell_type": "code",
      "source": [
        "fibonacci(10)"
      ],
      "metadata": {
        "colab": {
          "base_uri": "https://localhost:8080/"
        },
        "id": "Abt1qeBVycJ0",
        "outputId": "6658d10f-3916-4ea0-adb9-797ecf8c2669"
      },
      "execution_count": null,
      "outputs": [
        {
          "output_type": "execute_result",
          "data": {
            "text/plain": [
              "[0, 1, 1, 2, 3, 5, 8]"
            ]
          },
          "metadata": {},
          "execution_count": 3
        }
      ]
    },
    {
      "cell_type": "markdown",
      "source": [
        "### Next, write a function that determines if an input interger n is Prime or not"
      ],
      "metadata": {
        "id": "fnPI40cT0u9o"
      }
    },
    {
      "cell_type": "code",
      "source": [
        "def isPrime(n):   \n",
        "  if n < 2:\n",
        "    return False\n",
        "\n",
        "  rootn = math.floor(math.sqrt(n))\n",
        "\n",
        "  for i in range(2, rootn+1):\n",
        "    if n % i == 0:\n",
        "      return False\n",
        "  \n",
        "  return True"
      ],
      "metadata": {
        "id": "djPSuE1hycGL"
      },
      "execution_count": null,
      "outputs": []
    },
    {
      "cell_type": "markdown",
      "source": [
        "### Now we can construct a function that iterates over the list of fibonacci numbers and filter out the numbers that are prime and store them in a list"
      ],
      "metadata": {
        "id": "I2945WEh04Wi"
      }
    },
    {
      "cell_type": "code",
      "source": [
        "def fibPrime(n):\n",
        "\n",
        "    result = []\n",
        "    fibList = fibonacci(n)\n",
        "    index = []\n",
        "\n",
        "    for i in range(len(fibList)):\n",
        "      num = fibList[i]\n",
        "      if isPrime(num):\n",
        "        result.append(num)\n",
        "   \n",
        "    return result"
      ],
      "metadata": {
        "id": "aoLH1uXcycAO"
      },
      "execution_count": null,
      "outputs": []
    },
    {
      "cell_type": "code",
      "source": [
        "fibPrime(1000000000000000)"
      ],
      "metadata": {
        "colab": {
          "base_uri": "https://localhost:8080/"
        },
        "id": "8u8ugPuWy6jP",
        "outputId": "fa003fba-75a6-488f-924b-3cfc7dfa1442"
      },
      "execution_count": null,
      "outputs": [
        {
          "output_type": "execute_result",
          "data": {
            "text/plain": [
              "[2, 3, 5, 13, 89, 233, 1597, 28657, 514229, 433494437, 2971215073]"
            ]
          },
          "metadata": {},
          "execution_count": 55
        }
      ]
    },
    {
      "cell_type": "markdown",
      "source": [
        "### Observation\n",
        "\n",
        "I do think there are infinitely many Fibonacci Primes. In primes project, we explored the conjecture: For every positive integer n, there exists at least one prime between $n^2$ and $(n + 1)^2$ and was in support of the conjecture and didn't find any counterexamples"
      ],
      "metadata": {
        "id": "xDB3zKPZ2Bwi"
      }
    },
    {
      "cell_type": "code",
      "source": [
        ""
      ],
      "metadata": {
        "id": "1SvPRtIvzGlF"
      },
      "execution_count": null,
      "outputs": []
    }
  ]
}