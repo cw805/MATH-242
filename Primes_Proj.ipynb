{
  "nbformat": 4,
  "nbformat_minor": 0,
  "metadata": {
    "colab": {
      "name": "Primes Proj.ipynb",
      "provenance": [],
      "collapsed_sections": [
        "1mv5AxfNh9AO"
      ],
      "authorship_tag": "ABX9TyPZkvhQQyPWpKYk/vwM6qsM",
      "include_colab_link": true
    },
    "kernelspec": {
      "name": "python3",
      "display_name": "Python 3"
    },
    "language_info": {
      "name": "python"
    }
  },
  "cells": [
    {
      "cell_type": "markdown",
      "metadata": {
        "id": "view-in-github",
        "colab_type": "text"
      },
      "source": [
        "<a href=\"https://colab.research.google.com/github/cw805/MATH-242/blob/main/Primes_Proj.ipynb\" target=\"_parent\"><img src=\"https://colab.research.google.com/assets/colab-badge.svg\" alt=\"Open In Colab\"/></a>"
      ]
    },
    {
      "cell_type": "markdown",
      "metadata": {
        "id": "1sz37RJiHzE2"
      },
      "source": [
        "# **Primes Project**\n",
        "\n",
        "**Due: Friday, April 22**\n",
        "\n",
        "This project has two parts, both involving prime numbers.\n",
        "\n",
        "**Part 1**: Implement the Sieve of Sundaram and compare it with the Sieve of Eratosthenes. The Sieve\n",
        "of Sundaram algorithm is found on page 138 in Computational Mathematics, chapter 4. Compare the runtime required for computing lists of primes with each sieve method. You should measure the runtime of each sieve for computing the primes up to n, for various n. Then make a plot that shows your results (n on the horizontal axis, runtimes on the vertical axis).\n",
        "\n",
        "\n",
        "**Part 2**: Investigate at least two (three for a score of Excellent) of the following conjectures about primes. For each, either provide computational evidence in support of the conjecture, or find a counterexample showing that the conjecture is false.\n",
        "\n",
        "**Conjecture A.** Every even integer greater than 2 is the sum of two primes.\n",
        "\n",
        "**Conjecture B.** For every $N$, the number of nonnegative integers less than $N$ with an even number of prime factors is less than the number of nonnegative integers less than N with an odd number of prime factors. For this, prime factors are counted with *multiplicity*; e.g.,  $24 = 2^3 · 3$ has 4 prime factors, while  $588 = 22 · 3 · 7^2$ has 5 prime factors.\n",
        "\n",
        "**Conjecture C.** For every positive integer n, there exists at least one prime between $n^2$ and $(n + 1)^2$\n",
        "\n",
        "**Conjecture D**. All odd numbers greater than 1 are either prime, or can be expressed as the sum of a prime and twice a square."
      ]
    },
    {
      "cell_type": "markdown",
      "source": [
        "To receive a grade of Excellent, your notebook should further exhibit the following:\n",
        "- You investigate three of the above conjectures. For each, you either find evidence in support\n",
        "of the conjecture or a counterexample that disproves it.\n",
        "- Computational methodology demonstrates mastery of the computational techniques that we\n",
        "have studied in this course.\n",
        "- Exposition is clear and precise, thoroughly explaining your methodology and reasoning. Any assumptions necessary for the estimates are reasonable and clearly stated.\n",
        "- The work may extend beyond the project requirements in a creative or insightful direction.\n"
      ],
      "metadata": {
        "id": "9Mq2lNkTcgyN"
      }
    },
    {
      "cell_type": "markdown",
      "source": [
        "## Preliminary Code\n",
        "First import modules:"
      ],
      "metadata": {
        "id": "7pJ0mfrRhfHy"
      }
    },
    {
      "cell_type": "code",
      "source": [
        "import math   # for sqrt and other math functions\n",
        "import time   # for runtime analysis\n",
        "import matplotlib.pyplot as plt  # for plotting\n",
        "import sympy"
      ],
      "metadata": {
        "id": "TozcFxZshHUx"
      },
      "execution_count": 65,
      "outputs": []
    },
    {
      "cell_type": "markdown",
      "source": [
        "# Part 1 - Sieve of Sundaram vs. Eratosthenes (Ch.4 p.138 )\n",
        "Compare the runtime required for computing lists of primes with each sieve method. You should \n",
        "\n",
        "- measure the runtime of each sieve for computing the primes up to n, for various n. \n",
        "\n",
        "- Then make a plot that shows your results (n on the horizontal axis, runtimes on the vertical axis)."
      ],
      "metadata": {
        "id": "JrlbngtZgZ0k"
      }
    },
    {
      "cell_type": "markdown",
      "source": [
        "## Sieve of Eratosthenes\n",
        "\n",
        "We will implement the *fastEroatos()* function that we've been working with in class. The function will simply replace composite numbers with zero. The nonzero numbers that remain will be our list of primes."
      ],
      "metadata": {
        "id": "1mv5AxfNh9AO"
      }
    },
    {
      "cell_type": "code",
      "source": [
        "def fastEratos(nMax):\n",
        "  # start with a list 2, 3, 4, ..., nMax\n",
        "  nums = list(range(2,nMax+1))\n",
        "\n",
        "  # compute the sqare root of nMax\n",
        "  nroot = math.sqrt(nMax)\n",
        "\n",
        "  i = 0 # index of smallest item in nums\n",
        "  while nums[i] <= nroot:\n",
        "\n",
        "    if nums[i] > 0:   # then nums[i] is prime, so set all of its multiples to zero\n",
        "      j = i + nums[i] # this index of twice the prime nums[i]\n",
        "      while j < len(nums):\n",
        "        nums[j] = 0\n",
        "        j += nums[i]    # go to the next multiple of the prime nums[i]\n",
        "\n",
        "    i += 1  # go to the next smallest item in nums\n",
        "\n",
        "  # all nonzero numbers that remain in our list are prime\n",
        "  primes = [n for n in nums if n != 0]\n",
        "  return primes"
      ],
      "metadata": {
        "id": "E3-J5gH4ioE4"
      },
      "execution_count": 66,
      "outputs": []
    },
    {
      "cell_type": "markdown",
      "source": [
        "Now measure the runtime of this implementation. This is the function that will measure and return the runtime of fastEratos(nMax)."
      ],
      "metadata": {
        "id": "dsNho4YpjJh4"
      }
    },
    {
      "cell_type": "code",
      "source": [
        "def timeEratos(nMax):\n",
        "  startTime = time.time()\n",
        "  fastEratos(nMax)\n",
        "  endTime = time.time()\n",
        "  #print(\"runtime:\", endTime - startTime)\n",
        "  return endTime - startTime"
      ],
      "metadata": {
        "id": "MR-JhstNjHHD"
      },
      "execution_count": 8,
      "outputs": []
    },
    {
      "cell_type": "code",
      "source": [
        "timeEratos(1000)"
      ],
      "metadata": {
        "colab": {
          "base_uri": "https://localhost:8080/"
        },
        "id": "If22CYQOjs0x",
        "outputId": "afc11525-de98-44ba-bc64-7b4eea4570f1"
      },
      "execution_count": 7,
      "outputs": [
        {
          "output_type": "execute_result",
          "data": {
            "text/plain": [
              "0.0006604194641113281"
            ]
          },
          "metadata": {},
          "execution_count": 7
        }
      ]
    },
    {
      "cell_type": "markdown",
      "source": [
        "Another way to measure the runtime for computing the primes up to n, for various n."
      ],
      "metadata": {
        "id": "v8ycDYEqkRXW"
      }
    },
    {
      "cell_type": "code",
      "source": [
        "%time primes = fastEratos(100)"
      ],
      "metadata": {
        "colab": {
          "base_uri": "https://localhost:8080/"
        },
        "id": "aoYKh755j3Ud",
        "outputId": "3271f884-a56f-4b1d-9447-b582de0481f9"
      },
      "execution_count": 8,
      "outputs": [
        {
          "output_type": "stream",
          "name": "stdout",
          "text": [
            "CPU times: user 61 µs, sys: 4 µs, total: 65 µs\n",
            "Wall time: 68.2 µs\n"
          ]
        }
      ]
    },
    {
      "cell_type": "code",
      "source": [
        "%time primes = fastEratos(10000)"
      ],
      "metadata": {
        "colab": {
          "base_uri": "https://localhost:8080/"
        },
        "id": "0plmWTWAj4xG",
        "outputId": "b1616f35-72d0-41fe-f5e3-374417d1964c"
      },
      "execution_count": 9,
      "outputs": [
        {
          "output_type": "stream",
          "name": "stdout",
          "text": [
            "CPU times: user 5.33 ms, sys: 0 ns, total: 5.33 ms\n",
            "Wall time: 5.53 ms\n"
          ]
        }
      ]
    },
    {
      "cell_type": "code",
      "source": [
        "%time primes = fastEratos(1000000)"
      ],
      "metadata": {
        "colab": {
          "base_uri": "https://localhost:8080/"
        },
        "id": "rp-yXZ_Gjb5u",
        "outputId": "a94a7270-e800-4e99-ab07-596c69c926f5"
      },
      "execution_count": 10,
      "outputs": [
        {
          "output_type": "stream",
          "name": "stdout",
          "text": [
            "CPU times: user 581 ms, sys: 10.8 ms, total: 592 ms\n",
            "Wall time: 597 ms\n"
          ]
        }
      ]
    },
    {
      "cell_type": "code",
      "source": [
        "%time primes = fastEratos(10000000)"
      ],
      "metadata": {
        "colab": {
          "base_uri": "https://localhost:8080/"
        },
        "id": "eZ99yrkAj7Pe",
        "outputId": "7f876dcb-a05c-4ea3-fa67-317f1562cf93"
      },
      "execution_count": 4,
      "outputs": [
        {
          "output_type": "stream",
          "name": "stdout",
          "text": [
            "CPU times: user 7.04 s, sys: 240 ms, total: 7.28 s\n",
            "Wall time: 7.37 s\n"
          ]
        }
      ]
    },
    {
      "cell_type": "markdown",
      "source": [
        "Now we will make a list of the `nMax` values that we will test, and then we will measure the runtimes and store them in a list. "
      ],
      "metadata": {
        "id": "2KLiBXazbSs_"
      }
    },
    {
      "cell_type": "code",
      "source": [
        "nMaxVals = range(10000,200000,10000)\n",
        "runtimes = [timeEratos(n) for n in nMaxVals]  # list comprehension -- makes a list of runtime values\n",
        "#print(runtimes)"
      ],
      "metadata": {
        "id": "BszIFPEUbnwY"
      },
      "execution_count": 19,
      "outputs": []
    },
    {
      "cell_type": "markdown",
      "source": [
        "It would be much nicer to plot these runtimes. For plotting in Python we will use the `matplotlib.pyplot` module, which we imported above. "
      ],
      "metadata": {
        "id": "8Qc0Vbm1brw1"
      }
    },
    {
      "cell_type": "code",
      "source": [
        "plt.plot(nMaxVals, runtimes, 'go') # creates the plot; syntax is plot(xvals, yvals, format)\n",
        "plt.title(\"Sieve of Eratosthenes runtimes (first attempt)\")\n",
        "plt.xlabel(\"nMax\")\n",
        "plt.ylabel(\"time (seconds)\");"
      ],
      "metadata": {
        "id": "Vped8LXyb7-w",
        "colab": {
          "base_uri": "https://localhost:8080/",
          "height": 295
        },
        "outputId": "7085270f-ea51-44f2-c420-b3558295d3bc"
      },
      "execution_count": 20,
      "outputs": [
        {
          "output_type": "display_data",
          "data": {
            "text/plain": [
              "<Figure size 432x288 with 1 Axes>"
            ],
            "image/png": "[encoded data removed]"
          },
          "metadata": {
            "needs_background": "light"
          }
        }
      ]
    },
    {
      "cell_type": "markdown",
      "source": [
        "## Sieve of Sundaram\n"
      ],
      "metadata": {
        "id": "UnfbNa3B29ML"
      }
    },
    {
      "cell_type": "code",
      "source": [
        "def sundaram(n):\n",
        "\n",
        "  m = int((n - 1)/2)\n",
        "\n",
        "  nums = list(range(1, m + 1))\n",
        "  i = 1\n",
        "\n",
        "  for i in range(1, m + 1):    \n",
        "    while (2*i + 2*i**2) <= m:      \n",
        "      j = i   \n",
        "      while (i + j + 2(i*j))  <= m:     \n",
        "        \n",
        "        w = (i + j + 2(i*j))         \n",
        "        if w in nums:\n",
        "          nums[w] = 1  \n",
        "          j += 1\n",
        "      i +=  1\n",
        "\n",
        "  if (n > 2):\n",
        "        print(2,\" \") \n",
        "\n",
        "  for i in range(1, m + 1):\n",
        "        if (nums[i] == 0):\n",
        "            print((2 * i + 1),\" \");       \n",
        "\n",
        "  primes = [2*b + 1 for b in nums]\n",
        "  return primes"
      ],
      "metadata": {
        "id": "2cnMl1Gs4MWW"
      },
      "execution_count": 119,
      "outputs": []
    },
    {
      "cell_type": "code",
      "source": [
        "def SieveOfSundaram(n):\n",
        "  \n",
        "    nNew = int((n - 1) / 2);\n",
        " \n",
        " \n",
        "    marked = [0] * (nNew + 1);\n",
        " \n",
        "\n",
        "    for i in range(1, nNew + 1):\n",
        "        j = i;\n",
        "        while((i + j + 2 * i * j) <= nNew):\n",
        "            marked[i + j + 2 * i * j] = 1;\n",
        "            j += 1;\n",
        " \n",
        "    # Since 2 is a prime number\n",
        "    if (n > 2):\n",
        "        print(2, end = \" \");\n",
        " \n",
        "    # Print other primes. Remaining\n",
        "    # primes are of the form 2*i + 1\n",
        "    # such that marked[i] is false.\n",
        "    for i in range(1, nNew + 1):\n",
        "        if (marked[i] == 0):\n",
        "            print((2 * i + 1), end = \" \")"
      ],
      "metadata": {
        "id": "yjEJgQ4RRfrv"
      },
      "execution_count": 122,
      "outputs": []
    },
    {
      "cell_type": "code",
      "source": [
        "SieveOfSundaram(20)"
      ],
      "metadata": {
        "colab": {
          "base_uri": "https://localhost:8080/"
        },
        "id": "r5gu0WVdR_se",
        "outputId": "39a1c693-867b-43d9-e912-511854158335"
      },
      "execution_count": 123,
      "outputs": [
        {
          "output_type": "stream",
          "name": "stdout",
          "text": [
            "2 3 5 7 11 13 17 19 "
          ]
        }
      ]
    },
    {
      "cell_type": "code",
      "source": [
        "m = 20\n",
        "nums = list(range(1, m + 1))\n",
        "print(nums)\n"
      ],
      "metadata": {
        "colab": {
          "base_uri": "https://localhost:8080/"
        },
        "id": "8B7OyohdNkqb",
        "outputId": "abc6fb43-4dbf-4b8b-c978-85926c56e0c7"
      },
      "execution_count": 99,
      "outputs": [
        {
          "output_type": "stream",
          "name": "stdout",
          "text": [
            "[1, 2, 3, 4, 5, 6, 7, 8, 9, 10, 11, 12, 13, 14, 15, 16, 17, 18, 19, 20]\n"
          ]
        }
      ]
    },
    {
      "cell_type": "markdown",
      "source": [
        "# Part 2: Investigate the following conjectures about primes. \n",
        "For each, either provide computational evidence in support of the conjecture, or find a counterexample showing that the conjecture is false.\n"
      ],
      "metadata": {
        "id": "CLVAV-eeT92j"
      }
    },
    {
      "cell_type": "markdown",
      "source": [
        "**Conjecture A.** Every even integer greater than 2 is the sum of two primes.\n",
        "\n",
        "**Conjecture B.** For every $N$, the number of nonnegative integers less than $N$ with an even number of prime factors is less than the number of nonnegative integers less than N with an odd number of prime factors. For this, prime factors are counted with *multiplicity*; e.g.,  $24 = 2^3 · 3$ has 4 prime factors, while  $588 = 22 · 3 · 7^2$ has 5 prime factors.\n",
        "\n",
        "**Conjecture C.** For every positive integer n, there exists at least one prime between $n^2$ and $(n + 1)^2$\n",
        "\n",
        "**Conjecture D**. All odd numbers greater than 1 are either prime, or can be expressed as the sum of a prime and twice a square."
      ],
      "metadata": {
        "id": "Z5L4xi0BUNqq"
      }
    },
    {
      "cell_type": "code",
      "source": [
        "# Conjecture A. Every even integer greater than 2 is the sum of two primes.\n",
        "\n"
      ],
      "metadata": {
        "id": "1luNATErXebC"
      },
      "execution_count": null,
      "outputs": []
    },
    {
      "cell_type": "code",
      "source": [
        "# Conjecture C. For every positive integer n, there exists at least one prime between  𝑛2  and  (𝑛+1)2"
      ],
      "metadata": {
        "id": "TtFaAr7YXdqt"
      },
      "execution_count": null,
      "outputs": []
    },
    {
      "cell_type": "markdown",
      "source": [
        "**Conjecture D**. All odd numbers greater than 1 are either prime, or can be expressed as the sum of a prime and twice a square."
      ],
      "metadata": {
        "id": "qJPla2WfbIMw"
      }
    },
    {
      "cell_type": "code",
      "source": [
        "def isOdd(n): # test using : isOdd(50)\n",
        "\n",
        "  #while n > 1:\n",
        "    if n % 2 == 0:\n",
        "      return False\n",
        "    else:\n",
        "      return True\n",
        "\n",
        "\n",
        "def oddList(nMax): # test using: oddList(50)\n",
        "  \n",
        "  oddsList = []\n",
        "\n",
        "  for n in range(nMax + 1):\n",
        "      if isOdd(n):\n",
        "        oddsList.append(n)\n",
        "\n",
        "# return the list of odd numbers\n",
        "  return oddsList"
      ],
      "metadata": {
        "id": "xnZgBn9NbJVM"
      },
      "execution_count": 149,
      "outputs": []
    },
    {
      "cell_type": "code",
      "source": [
        "print(oddList(50))"
      ],
      "metadata": {
        "colab": {
          "base_uri": "https://localhost:8080/"
        },
        "id": "NmIvGTB_jlEp",
        "outputId": "0a6c0bdd-7a6b-4f85-fbd5-b4c811738b09"
      },
      "execution_count": 150,
      "outputs": [
        {
          "output_type": "stream",
          "name": "stdout",
          "text": [
            "[1, 3, 5, 7, 9, 11, 13, 15, 17, 19, 21, 23, 25, 27, 29, 31, 33, 35, 37, 39, 41, 43, 45, 47, 49]\n"
          ]
        }
      ]
    },
    {
      "cell_type": "code",
      "source": [
        "# Conjecture D. All odd numbers greater than 1 are either prime, or can be expressed as the sum of a prime and twice a square.\n",
        "\n",
        "def oddPrimes(nMax):\n",
        "\n",
        "  primeList = fastEratos(nMax)\n",
        "  j = list(1, nMax + 1) # random integer\n",
        "  \n",
        "  twiceSquare  = 2(j**2)\n",
        "  "
      ],
      "metadata": {
        "id": "iIeiUDTYXdb7"
      },
      "execution_count": null,
      "outputs": []
    },
    {
      "cell_type": "code",
      "source": [
        ""
      ],
      "metadata": {
        "id": "bbnzxRGMXdP8"
      },
      "execution_count": null,
      "outputs": []
    }
  ]
}