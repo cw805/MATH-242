{
  "nbformat": 4,
  "nbformat_minor": 0,
  "metadata": {
    "colab": {
      "name": "HW_Primes IV_CW",
      "provenance": [],
      "collapsed_sections": [],
      "include_colab_link": true
    },
    "kernelspec": {
      "name": "python3",
      "display_name": "Python 3"
    },
    "language_info": {
      "name": "python"
    }
  },
  "cells": [
    {
      "cell_type": "markdown",
      "metadata": {
        "id": "view-in-github",
        "colab_type": "text"
      },
      "source": [
        "<a href=\"https://colab.research.google.com/github/cw805/MATH-242/blob/main/HW_Primes_IV_CW.ipynb\" target=\"_parent\"><img src=\"https://colab.research.google.com/assets/colab-badge.svg\" alt=\"Open In Colab\"/></a>"
      ]
    },
    {
      "cell_type": "markdown",
      "metadata": {
        "id": "1sz37RJiHzE2"
      },
      "source": [
        "# Primes IV Practice Problems\n",
        "\n",
        "**Learning Goals:** Gain proficiency with Python coding. Explore the distribution of prime numbers.\n",
        "\n",
        "**Your task:** Complete the two practice problems below. The first problem involves writing Python code, while the second problem involves watching a short video about the Riemann Hypothesis and answering two questions.\n",
        "\n",
        "**Due:** Wednesday, April 20, at 5:00pm. Do the following to submit your work.\n",
        "\n",
        "1. Click on *Share* in the upper right corner of this window. Make sure your notebook is viewable by Prof. Wright and the course grader(s).\n",
        "2. In the *Get link*, click *Copy link*.\n",
        "3. Go to the [Primes IV](https://mdl.stolaf.edu/mod/assign/view.php?id=190134) assignment on Moodle. Paste the link to your notebook in the text field for the assignment submission. This will allow Prof. Wright or either of the course graders to view your Colab notebook.\n",
        "\n",
        "**Grading:** Each problem will be graded on a Satisfactory/Unsatisfactory scale. \n",
        "\n",
        "**Need help?** Review the notes from class and Python documentation links on the course web site. If you still need help, email Prof. Wright. Don't forget there are also evening help sessions &mdash; the help session schedule is at the top of the course website.\n"
      ]
    },
    {
      "cell_type": "code",
      "source": [
        "import math   # for sqrt and other math functions\n",
        "import time   # for runtime analysis\n",
        "import matplotlib.pyplot as plt  # for plotting\n",
        "import random"
      ],
      "metadata": {
        "id": "II_Ge_qAmv-r"
      },
      "execution_count": null,
      "outputs": []
    },
    {
      "cell_type": "code",
      "execution_count": null,
      "metadata": {
        "id": "DB3XW9wNgvZd"
      },
      "outputs": [],
      "source": [
        "def isPrime(n):\n",
        "  if n < 2:\n",
        "    return False\n",
        "  \n",
        "  # compute the largest integer less than or equal to the square root of n\n",
        "  rootn = math.floor(math.sqrt(n))\n",
        "\n",
        "  # check for divisors of n\n",
        "  for i in range(2, rootn+1):\n",
        "    if n % i == 0:\n",
        "      # if i divides n, then n is not prime\n",
        "      return False\n",
        "  \n",
        "\n",
        "  return True"
      ]
    },
    {
      "cell_type": "markdown",
      "source": [
        "## Problem 1: Practice 4.26\n",
        "\n",
        "One way to think about the density of primes is in terms of probability. If the density of primes near $x$ is $\\frac{1}{\\ln(x)}$, and if we randomly select some integer $n$, then the probability that $n$ is prime is $\\frac{1}{\\ln(n)}$.\n",
        "\n",
        "Generate 1000 random integers between $10^{10}$ and $10^{11}$, and determine how many are prime. (For this, you probably want to use your `isPrime` function from last week.) Is the proportion of primes in your sample approximately $\\frac{1}{\\ln(10^{10})}$? \n",
        "\n",
        "Repeat the above for integers randomly selected from a different interval of your choice.\n",
        "\n",
        "**Note:** To generate a random integer between $a$ and $b$, first `import random` and then run `random.randint(a, b)`."
      ],
      "metadata": {
        "id": "N7X8PLavhIq9"
      }
    },
    {
      "cell_type": "code",
      "source": [
        "def countPrime(a,b):\n",
        "  \n",
        "  randList = random.sample(range(a, b), 1000) \n",
        "  count = 0\n",
        "  \n",
        "  for n in randList:\n",
        "    if isPrime(n):\n",
        "      count += 1\n",
        "      prop = 1/math.log(n)\n",
        "      dens = 1/math.log(10**10)\n",
        "  return count, prop, dens"
      ],
      "metadata": {
        "id": "fYiFAn8IotKP"
      },
      "execution_count": null,
      "outputs": []
    },
    {
      "cell_type": "code",
      "source": [
        "countPrime(10**10,10**11)"
      ],
      "metadata": {
        "colab": {
          "base_uri": "https://localhost:8080/"
        },
        "id": "pNLzc71t4nm4",
        "outputId": "473aa5de-8933-4228-d050-d67d5fead9a2"
      },
      "execution_count": null,
      "outputs": [
        {
          "output_type": "execute_result",
          "data": {
            "text/plain": [
              "(30, 0.041843198896560484, 0.04342944819032518)"
            ]
          },
          "metadata": {},
          "execution_count": 27
        }
      ]
    },
    {
      "cell_type": "markdown",
      "source": [
        "**Yes, the prop of primes in your sample approximately $\\frac{1}{\\ln(10^{10})}$**"
      ],
      "metadata": {
        "id": "d48QpDvG8k2h"
      }
    },
    {
      "cell_type": "markdown",
      "source": [
        "## Problem 2\n",
        "\n",
        "Watch [The Riemann Hypothesis, Explained](https://youtu.be/zlm1aajH6gY), a 16-minute video by Quanta Magazine. Answer the following two questions.\n",
        "\n",
        "1. What does Riemann hypothesize in his 1859 paper?\n",
        "2. According to the video, how do the zeta zeros relate to the prime numbers?"
      ],
      "metadata": {
        "id": "bBSZPzkFTPqE"
      }
    },
    {
      "cell_type": "markdown",
      "source": [
        "1. **All of the non-trivial zeros will lie not just somewhere in thecritical script, on a single vertical line in the middle where s = 1/2 called the critical line**\n",
        "\n",
        "2. **The locations of these zera zeros It more and more closely approxiamates the prime counting function as they both grow to infinity. If you add up all the harmonics of the zeta zeros, you get a perfect match to Gauss' modified prime counting function. We'd know everything about the prime number distributions**\n"
      ],
      "metadata": {
        "id": "i2btOHMMK2VP"
      }
    }
  ]
}