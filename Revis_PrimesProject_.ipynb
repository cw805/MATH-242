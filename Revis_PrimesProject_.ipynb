{
  "nbformat": 4,
  "nbformat_minor": 0,
  "metadata": {
    "colab": {
      "name": "Revis_PrimesProject .ipynb",
      "provenance": [],
      "collapsed_sections": [
        "1mv5AxfNh9AO",
        "UnfbNa3B29ML",
        "U-NPlImJQp08",
        "BIR0F0-nOekx",
        "gpSrT21bcI0V",
        "uRyNjFTWNvqE",
        "Bitf-WMwNTgw",
        "SxzDf6J-NiFn",
        "YFmcjfX4bkIb",
        "E41QrAKW9Gcx",
        "ABBo28kZB3LJ",
        "NSalKh6lD073",
        "V6KTbYFLgF3u",
        "dx4jCk-nwkxx"
      ],
      "authorship_tag": "ABX9TyMXG5SkWf3Gc2nMoPeOoaxI",
      "include_colab_link": true
    },
    "kernelspec": {
      "name": "python3",
      "display_name": "Python 3"
    },
    "language_info": {
      "name": "python"
    }
  },
  "cells": [
    {
      "cell_type": "markdown",
      "metadata": {
        "id": "view-in-github",
        "colab_type": "text"
      },
      "source": [
        "<a href=\"https://colab.research.google.com/github/cw805/MATH-242/blob/main/Revis_PrimesProject_.ipynb\" target=\"_parent\"><img src=\"https://colab.research.google.com/assets/colab-badge.svg\" alt=\"Open In Colab\"/></a>"
      ]
    },
    {
      "cell_type": "markdown",
      "metadata": {
        "id": "1sz37RJiHzE2"
      },
      "source": [
        "# **Primes Project**\n",
        "\n",
        "Math 242 - Modern Computational Mathematics\n",
        "\n",
        "\n",
        "**Claire Wu** \n",
        "\n",
        "**Due: Friday, April 22**\n",
        "\n",
        "\n",
        "This project has two parts, both involving prime numbers.\n",
        "\n",
        "**Part 1**: Implement the Sieve of Sundaram and compare it with the Sieve of Eratosthenes. The Sieve\n",
        "of Sundaram algorithm is found on page 138 in Computational Mathematics, chapter 4. Compare the runtime required for computing lists of primes with each sieve method. You should measure the runtime of each sieve for computing the primes up to n, for various n. Then make a plot that shows your results (n on the horizontal axis, runtimes on the vertical axis).\n",
        "\n",
        "\n",
        "**Part 2**: Investigate at least two (three for a score of Excellent) of the following conjectures about primes. For each, either provide computational evidence in support of the conjecture, or find a counterexample showing that the conjecture is false.\n"
      ]
    },
    {
      "cell_type": "markdown",
      "source": [
        "To receive a grade of Excellent, your notebook should further exhibit the following:\n",
        "- You investigate three of the above conjectures. For each, you either find evidence in support\n",
        "of the conjecture or a counterexample that disproves it.\n",
        "- Computational methodology demonstrates mastery of the computational techniques that we\n",
        "have studied in this course.\n",
        "- Exposition is clear and precise, thoroughly explaining your methodology and reasoning. Any assumptions necessary for the estimates are reasonable and clearly stated.\n",
        "- The work may extend beyond the project requirements in a creative or insightful direction.\n"
      ],
      "metadata": {
        "id": "9Mq2lNkTcgyN"
      }
    },
    {
      "cell_type": "markdown",
      "source": [
        "# Preliminary Code\n",
        "First import modules:"
      ],
      "metadata": {
        "id": "7pJ0mfrRhfHy"
      }
    },
    {
      "cell_type": "code",
      "source": [
        "import math   # for sqrt and other math functions\n",
        "import time   # for runtime analysis\n",
        "import matplotlib.pyplot as plt  # for plotting\n",
        "import sympy\n",
        "import numpy as np"
      ],
      "metadata": {
        "id": "TozcFxZshHUx"
      },
      "execution_count": null,
      "outputs": []
    },
    {
      "cell_type": "markdown",
      "source": [
        "# **Part 1 - Sieve of Sundaram vs. Eratosthenes (Ch.4 p.138 )**\n",
        "Compare the runtime required for computing lists of primes with each sieve method. You should \n",
        "\n",
        "- measure the runtime of each sieve for computing the primes up to n, for various n. \n",
        "\n",
        "- Then make a plot that shows your results (n on the horizontal axis, runtimes on the vertical axis)."
      ],
      "metadata": {
        "id": "JrlbngtZgZ0k"
      }
    },
    {
      "cell_type": "markdown",
      "source": [
        "## **Sieve of Eratosthenes**\n",
        "\n",
        "We will implement the *fastEroatos()* function that we've been working with in class. The function will simply replace composite numbers with zero. The nonzero numbers that remain will be our list of primes."
      ],
      "metadata": {
        "id": "1mv5AxfNh9AO"
      }
    },
    {
      "cell_type": "markdown",
      "source": [
        "#### Implementat fastEratos"
      ],
      "metadata": {
        "id": "vlRvysghqbmV"
      }
    },
    {
      "cell_type": "code",
      "source": [
        "def fastEratos(nMax):\n",
        "  \n",
        "  # start with a list 2, 3, 4, ..., nMax\n",
        "  nums = list(range(2,nMax+1))\n",
        "\n",
        "  # compute the sqare root of nMax\n",
        "  nroot = math.sqrt(nMax)\n",
        "\n",
        "  i = 0 # index of smallest item in nums\n",
        "  while nums[i] <= nroot:\n",
        "\n",
        "    if nums[i] > 0:   # then nums[i] is prime, so set all of its multiples to zero\n",
        "      j = i + nums[i]   # this index of twice the prime nums[i]\n",
        "      while j < len(nums):\n",
        "        nums[j] = 0\n",
        "        j += nums[i]    # go to the next multiple of the prime nums[i]\n",
        "\n",
        "    i += 1  # go to the next smallest item in nums\n",
        "\n",
        "  # all nonzero numbers that remain in our list are prime\n",
        "  primes = [n for n in nums if n != 0]\n",
        "  return primes"
      ],
      "metadata": {
        "id": "E3-J5gH4ioE4"
      },
      "execution_count": null,
      "outputs": []
    },
    {
      "cell_type": "markdown",
      "source": [
        "Now we can generate a list of primes from fastEratos:"
      ],
      "metadata": {
        "id": "9zOSiBHgTOTP"
      }
    },
    {
      "cell_type": "code",
      "source": [
        "fastEratos(50)"
      ],
      "metadata": {
        "colab": {
          "base_uri": "https://localhost:8080/"
        },
        "id": "qZwIHDn_m8Xn",
        "outputId": "f3c9051b-cac6-42f8-aa60-1178f1942c89"
      },
      "execution_count": null,
      "outputs": [
        {
          "output_type": "execute_result",
          "data": {
            "text/plain": [
              "[2, 3, 5, 7, 11, 13, 17, 19, 23, 29, 31, 37, 41, 43, 47]"
            ]
          },
          "metadata": {},
          "execution_count": 99
        }
      ]
    },
    {
      "cell_type": "markdown",
      "source": [
        "#### Runtime of fastEratos"
      ],
      "metadata": {
        "id": "w3F6BUAlmw-8"
      }
    },
    {
      "cell_type": "markdown",
      "source": [
        "Now measure the runtime of this implementation. This is the function that will measure and return the runtime of fastEratos(nMax)."
      ],
      "metadata": {
        "id": "dsNho4YpjJh4"
      }
    },
    {
      "cell_type": "code",
      "source": [
        "def timeEratos(nMax):\n",
        "  startTime = time.time()\n",
        "  fastEratos(nMax)\n",
        "  endTime = time.time()\n",
        "  return endTime - startTime"
      ],
      "metadata": {
        "id": "MR-JhstNjHHD"
      },
      "execution_count": null,
      "outputs": []
    },
    {
      "cell_type": "code",
      "source": [
        "timeEratos(10000)"
      ],
      "metadata": {
        "colab": {
          "base_uri": "https://localhost:8080/"
        },
        "id": "If22CYQOjs0x",
        "outputId": "bd6d7947-5ba8-43bb-9b82-90ddbda8801c"
      },
      "execution_count": null,
      "outputs": [
        {
          "output_type": "execute_result",
          "data": {
            "text/plain": [
              "0.009406805038452148"
            ]
          },
          "metadata": {},
          "execution_count": 102
        }
      ]
    },
    {
      "cell_type": "markdown",
      "source": [
        "#### Plotting Runtime of fastEratos"
      ],
      "metadata": {
        "id": "vVW2_OkDqJ3F"
      }
    },
    {
      "cell_type": "markdown",
      "source": [
        "Now we will make a list of the `nMax` values that we will test, and then we will measure the runtimes and store them in a list. "
      ],
      "metadata": {
        "id": "2KLiBXazbSs_"
      }
    },
    {
      "cell_type": "code",
      "source": [
        "erastosMaxVals = range(10000,100000,5000)\n",
        "runtimes = [timeEratos(n) for n in erastosMaxVals]  # list comprehension -- makes a list of runtime values"
      ],
      "metadata": {
        "id": "BszIFPEUbnwY"
      },
      "execution_count": null,
      "outputs": []
    },
    {
      "cell_type": "markdown",
      "source": [
        "With a list of nMax values, we can now plot the runtimes! For plotting in Python, we will use the `matplotlib.pyplot` module, which we imported above. "
      ],
      "metadata": {
        "id": "8Qc0Vbm1brw1"
      }
    },
    {
      "cell_type": "code",
      "source": [
        "plt.plot(erastosMaxVals, runtimes, 'go') # creates the plot; syntax is plot(xvals, yvals, format)\n",
        "plt.title(\"Sieve of Eratosthenes runtimes\")\n",
        "plt.xlabel(\"nMax\")\n",
        "plt.ylabel(\"time (seconds)\");"
      ],
      "metadata": {
        "id": "Vped8LXyb7-w",
        "colab": {
          "base_uri": "https://localhost:8080/",
          "height": 295
        },
        "outputId": "ba9d0d18-06a6-4638-90c0-dad7714a8414"
      },
      "execution_count": null,
      "outputs": [
        {
          "output_type": "display_data",
          "data": {
            "text/plain": [
              "<Figure size 432x288 with 1 Axes>"
            ],
            "image/png": "[encoded data removed]"
          },
          "metadata": {
            "needs_background": "light"
          }
        }
      ]
    },
    {
      "cell_type": "markdown",
      "source": [
        "## **Sieve of Sundaram**\n",
        "\n",
        "Now, we will repeat the same steps for the Sieve of Sundaram "
      ],
      "metadata": {
        "id": "UnfbNa3B29ML"
      }
    },
    {
      "cell_type": "markdown",
      "source": [
        "#### First, implement the Sieve of Sundaram sudo code:"
      ],
      "metadata": {
        "id": "R3p6FL0fr11i"
      }
    },
    {
      "cell_type": "code",
      "source": [
        "def sundaram(n):\n",
        "\n",
        "  m = int((n - 1)/2)\n",
        "  nums = list(range(1, m + 1))\n",
        "  i = 1    \n",
        "  \n",
        "  while (2*i + 2*(i**2)) <= m: \n",
        "    j = i             \n",
        "    w = (i + j + 2* i * j)\n",
        "    while w  <= m:                   \n",
        "      if w in nums:\n",
        "        nums.remove(w)\n",
        "      j += 1\n",
        "      w = (i + j + 2* i * j) # recalculate since j changed\n",
        "         \n",
        "    i += 1    \n",
        "\n",
        "  primes = [(2*b + 1) for b in nums]\n",
        "  return primes"
      ],
      "metadata": {
        "id": "2cnMl1Gs4MWW"
      },
      "execution_count": null,
      "outputs": []
    },
    {
      "cell_type": "markdown",
      "source": [
        "Test the function and print out the first primes up to 50:"
      ],
      "metadata": {
        "id": "3Ck3-Kb1Zara"
      }
    },
    {
      "cell_type": "code",
      "source": [
        "sundaram(50)"
      ],
      "metadata": {
        "colab": {
          "base_uri": "https://localhost:8080/"
        },
        "id": "pKK8YsJjYqxv",
        "outputId": "752b459e-b5ba-4f18-821b-36951e0f80e3"
      },
      "execution_count": null,
      "outputs": [
        {
          "output_type": "execute_result",
          "data": {
            "text/plain": [
              "[3, 5, 7, 11, 13, 17, 19, 23, 29, 31, 37, 41, 43, 47]"
            ]
          },
          "metadata": {},
          "execution_count": 148
        }
      ]
    },
    {
      "cell_type": "markdown",
      "source": [
        "Note that this algorithm excludes \"2\" as a prime number, but we could always add it on manually if that's necessary."
      ],
      "metadata": {
        "id": "5ymqIO9aVT4Z"
      }
    },
    {
      "cell_type": "markdown",
      "source": [
        "#### Runtime of Sundaram"
      ],
      "metadata": {
        "id": "QxEbWdwFp1yW"
      }
    },
    {
      "cell_type": "code",
      "source": [
        "def timeSundaram(Max):\n",
        "  startTime = time.time()\n",
        "  sundaram(Max)\n",
        "  endTime = time.time()\n",
        "  return endTime - startTime"
      ],
      "metadata": {
        "id": "5Oxud1h3p4sL"
      },
      "execution_count": null,
      "outputs": []
    },
    {
      "cell_type": "code",
      "source": [
        "timeSundaram(10000)"
      ],
      "metadata": {
        "colab": {
          "base_uri": "https://localhost:8080/"
        },
        "id": "A-_P_ZOVp94h",
        "outputId": "9c622e01-efda-4fa1-d538-ad147235eb19"
      },
      "execution_count": null,
      "outputs": [
        {
          "output_type": "execute_result",
          "data": {
            "text/plain": [
              "0.2920386791229248"
            ]
          },
          "metadata": {},
          "execution_count": 150
        }
      ]
    },
    {
      "cell_type": "markdown",
      "source": [
        "#### Plotting runtime of Sundaram"
      ],
      "metadata": {
        "id": "UQFN_qcMq04Y"
      }
    },
    {
      "cell_type": "code",
      "source": [
        "SundaramMaxVals = range(10000,100000,5000)\n",
        "runtimes = [timeSundaram(n) for n in SundaramMaxVals]  "
      ],
      "metadata": {
        "id": "4180-F-mq7Am"
      },
      "execution_count": null,
      "outputs": []
    },
    {
      "cell_type": "code",
      "source": [
        "plt.plot(SundaramMaxVals, runtimes, 'go') \n",
        "plt.title(\"Sieve of Sundaram runtimes\")\n",
        "plt.xlabel(\"nMax\")\n",
        "plt.ylabel(\"time (seconds)\");"
      ],
      "metadata": {
        "colab": {
          "base_uri": "https://localhost:8080/",
          "height": 295
        },
        "id": "cUstxAECrFEZ",
        "outputId": "ed2cfa43-b62c-4b63-87da-4592e55b977a"
      },
      "execution_count": null,
      "outputs": [
        {
          "output_type": "display_data",
          "data": {
            "text/plain": [
              "<Figure size 432x288 with 1 Axes>"
            ],
            "image/png": "[encoded data removed]"
          },
          "metadata": {
            "needs_background": "light"
          }
        }
      ]
    },
    {
      "cell_type": "markdown",
      "source": [
        "### **Comparing runtimes:**\n",
        "\n",
        "In short, the ***Sieve of Eratosthenes is much faster than the Sieve of Sundaram.*** For up to 10,000 n values, the runtimes are:\n",
        "\n",
        "**Sieve of Eratosthenes:** 0.0094 sec\n",
        "\n",
        "**Sieve of Sundaram:** 0.2920 sec\n",
        "\n",
        "\n",
        "Furthermore, from looking at the plots, we plotted the same intervals for both algorithms. The sieve of Eratosthenes' max time is around 0.045 seconds while Sundaram's max time is over 30 seconds."
      ],
      "metadata": {
        "id": "hqiro95LX4pM"
      }
    },
    {
      "cell_type": "markdown",
      "source": [
        "# **Part 2: Investigate the following conjectures about primes.**\n",
        "For each, either provide computational evidence in support of the conjecture, or find a counterexample showing that the conjecture is false.\n",
        "\n",
        "**Conjecture A.** Every even integer greater than 2 is the sum of two primes.\n",
        "\n",
        "**Conjecture C.** For every positive integer n, there exists at least one prime between $n^2$ and $(n + 1)^2$\n",
        "\n",
        "**Conjecture D**. All odd numbers greater than 1 are either prime, or can be expressed as the sum of a prime and twice a square."
      ],
      "metadata": {
        "id": "CLVAV-eeT92j"
      }
    },
    {
      "cell_type": "markdown",
      "source": [
        "## Set up some lists for Part 2"
      ],
      "metadata": {
        "id": "U-NPlImJQp08"
      }
    },
    {
      "cell_type": "markdown",
      "source": [
        "### **isPrime** function"
      ],
      "metadata": {
        "id": "wpD2is1sOTFB"
      }
    },
    {
      "cell_type": "code",
      "source": [
        "def isPrime(n):   # test: isPrime(13)\n",
        "  if n < 2:\n",
        "    return False\n",
        "  \n",
        "  # compute the largest integer less than or equal to the square root of n\n",
        "  rootn = math.floor(math.sqrt(n))\n",
        "\n",
        "  # check for divisors of n\n",
        "  for i in range(2, rootn+1):\n",
        "    if n % i == 0:\n",
        "      # if i divides n, then n is not prime\n",
        "      return False\n",
        "  \n",
        "  return True\n",
        "\n"
      ],
      "metadata": {
        "id": "OhNGZgXEOTFC"
      },
      "execution_count": null,
      "outputs": []
    },
    {
      "cell_type": "markdown",
      "source": [
        "### **isOdd** and **oddsList** and faster odd"
      ],
      "metadata": {
        "id": "BIR0F0-nOekx"
      }
    },
    {
      "cell_type": "code",
      "source": [
        "def isOdd(n): # test using : isOdd(50)\n",
        "\n",
        "  #while n > 1:\n",
        "    if n % 2 == 0:\n",
        "      return False\n",
        "    else:\n",
        "      return True"
      ],
      "metadata": {
        "id": "aaLtKKjwOekz"
      },
      "execution_count": null,
      "outputs": []
    },
    {
      "cell_type": "code",
      "source": [
        "OddsList = list(range(1,20, 2))"
      ],
      "metadata": {
        "id": "gpa2lSsfOek_"
      },
      "execution_count": null,
      "outputs": []
    },
    {
      "cell_type": "markdown",
      "source": [
        "### **isEven** and evenList"
      ],
      "metadata": {
        "id": "uRyNjFTWNvqE"
      }
    },
    {
      "cell_type": "code",
      "source": [
        "def isEven(n): \n",
        "\n",
        "  while n > 2: # specificed: even integers greater than 2\n",
        "    if n % 2 == 0:\n",
        "      return True\n",
        "    else:\n",
        "      return False"
      ],
      "metadata": {
        "id": "hU7EhH1Wb0re"
      },
      "execution_count": null,
      "outputs": []
    },
    {
      "cell_type": "code",
      "source": [
        "evenList= list(range(2,1000,2))\n",
        "# %time evens2 = list(range(2,1000,2))"
      ],
      "metadata": {
        "id": "63EIaEZhNcyn"
      },
      "execution_count": null,
      "outputs": []
    },
    {
      "cell_type": "markdown",
      "source": [
        "## **Conjecture A.** Every even integer greater than 2 is the sum of two primes"
      ],
      "metadata": {
        "id": "YFmcjfX4bkIb"
      }
    },
    {
      "cell_type": "markdown",
      "source": [
        "Basic Plan for Conjecture A function:\n",
        "\n",
        "**-input:** integers up to *evenMax*\n",
        "\n",
        "**-iterate:** over list of even numbers, \n",
        "\n",
        "for each even number: \n",
        "\n",
        "**-Set** :\n",
        " - num = evenNums [ i ]\n",
        " - firstPrime = primeList [ p ]\n",
        " - diff = *num*  - *firstPrime*,\n",
        "\n",
        "**-Test** if remainder is in primeList\n",
        "\n",
        "- if yes, **Trues += 1**, **move on** to the next even integer\n",
        "\n",
        "**Output:** Trues:123"
      ],
      "metadata": {
        "id": "BdK-XFyHnC1C"
      }
    },
    {
      "cell_type": "markdown",
      "source": [
        "#### Function with print statements"
      ],
      "metadata": {
        "id": "w5evus-VHpQi"
      }
    },
    {
      "cell_type": "markdown",
      "source": [
        "Sometimes when you can't go through all the nested loops very clearly in your head, it's useful to have a function that simply have a bunch of print statements. This will help make sure that the steps are functioning properly (as it should) for each step."
      ],
      "metadata": {
        "id": "B9oCQbR5i75s"
      }
    },
    {
      "cell_type": "code",
      "source": [
        "def printIterateEven(evenMax):\n",
        "\n",
        "  primeList = fastEratos(500000)\n",
        "  evenNums = list(range(4, evenMax + 1,2)) # start loop at 4 so even numbers > 2\n",
        "  Trues = 0\n",
        "\n",
        "  i = 0\n",
        "  for i in range(len(evenNums)): \n",
        "    number = evenNums[i]    \n",
        "    \n",
        "    for p in range(len(primeList)):\n",
        "      \n",
        "      print(\"( prime:\",primeList[p],\", index:\",p,\")\" ) # print out the prime and its index\n",
        "      \n",
        "      if primeList[p] <= number // 2 :\n",
        "          \n",
        "        firstPrime = primeList[p]\n",
        "        diff = number - firstPrime\n",
        "                  \n",
        "        if diff in primeList :            \n",
        "          Trues += 1\n",
        "          print(\"[even number:\", number,\", 1st Prime:\",firstPrime, \", 2nd Prime:\", diff, \"]\") # print out integer, the prime, and its index\n",
        "          break\n",
        "                 \n",
        "  print(\"True count:\", Trues)"
      ],
      "metadata": {
        "id": "Z4uTIa4Lm9jV"
      },
      "execution_count": null,
      "outputs": []
    },
    {
      "cell_type": "code",
      "source": [
        "printIterateEven(10)"
      ],
      "metadata": {
        "colab": {
          "base_uri": "https://localhost:8080/"
        },
        "id": "7xzE2iZXjgQy",
        "outputId": "aea33afd-0a8b-45a2-b477-ce5484f396be"
      },
      "execution_count": null,
      "outputs": [
        {
          "output_type": "stream",
          "name": "stdout",
          "text": [
            "( prime: 2 , index: 0 )\n",
            "[even number: 4 , 1st Prime: 2 , 2nd Prime: 2 ]\n",
            "( prime: 2 , index: 0 )\n",
            "( prime: 3 , index: 1 )\n",
            "[even number: 6 , 1st Prime: 3 , 2nd Prime: 3 ]\n",
            "( prime: 2 , index: 0 )\n",
            "( prime: 3 , index: 1 )\n",
            "[even number: 8 , 1st Prime: 3 , 2nd Prime: 5 ]\n",
            "( prime: 2 , index: 0 )\n",
            "( prime: 3 , index: 1 )\n",
            "[even number: 10 , 1st Prime: 3 , 2nd Prime: 7 ]\n",
            "True count: 4\n"
          ]
        }
      ]
    },
    {
      "cell_type": "markdown",
      "source": [
        "#### Now we can make that into our main function!"
      ],
      "metadata": {
        "id": "VoE3VzozHfxI"
      }
    },
    {
      "cell_type": "code",
      "source": [
        "def iterateEven(evenMax):\n",
        "\n",
        "  primeList = fastEratos(500000)\n",
        "  evenNums = list(range(4, evenMax + 1,2)) \n",
        "  Trues = 0\n",
        "\n",
        "  i = 0\n",
        "  for i in range(len(evenNums)): \n",
        "    number = evenNums[i]\n",
        "       \n",
        "    for p in range(len(primeList)):\n",
        "           \n",
        "      if primeList[p] <= number // 2 :\n",
        "          \n",
        "        firstPrime = primeList[p]\n",
        "        diff = number - firstPrime\n",
        "                  \n",
        "        if diff in primeList :            \n",
        "          Trues += 1\n",
        "          break\n",
        "                 \n",
        "  return Trues"
      ],
      "metadata": {
        "id": "-exPTMX3jcRz"
      },
      "execution_count": null,
      "outputs": []
    },
    {
      "cell_type": "code",
      "source": [
        "iterateEven(10000)"
      ],
      "metadata": {
        "colab": {
          "base_uri": "https://localhost:8080/"
        },
        "id": "q0Yip6wMCpzP",
        "outputId": "9eba37f3-2a33-43b9-fd73-cca6d39dc888"
      },
      "execution_count": null,
      "outputs": [
        {
          "output_type": "execute_result",
          "data": {
            "text/plain": [
              "4999"
            ]
          },
          "metadata": {},
          "execution_count": 219
        }
      ]
    },
    {
      "cell_type": "markdown",
      "source": [
        "### **It seems our computational evidence is in support of Conjecture A!**\n",
        "\n",
        "We tested up to 10000 integers, which includes 5000 even integers, but we have to subtract by one for excluding the number 2. We should expect 4999 true counts for the conjecture to hold and we did!"
      ],
      "metadata": {
        "id": "wXFpNzcVFyBb"
      }
    },
    {
      "cell_type": "markdown",
      "source": [
        "## **Conjecture C.** For every positive integer n, there exists at least one prime between $n^2$ and $(n + 1)^2$"
      ],
      "metadata": {
        "id": "_ix-kEUQaoYh"
      }
    },
    {
      "cell_type": "markdown",
      "source": [
        "Basic Plan for Conjecture C function:\n",
        "\n",
        "**-input:** numRange (positive integers), nMax  (list of primes)\n",
        "\n",
        "**-iterate:** over list of positive integers, \n",
        "\n",
        "for every integer in nums\n",
        "for every prime in primeList\n",
        "\n",
        "**-Set** :\n",
        " - interval = ($n^2$ and $(n + 1)^2$)\n",
        " \n",
        "\n",
        "**-Test** if a prime number is found in the interval\n",
        "\n",
        "- if yes, **Trues += 1**, **break** from the loop since we only need at least one prime in the interval\n",
        "- if not, **Falses += 1**\n",
        "\n",
        "**Output:** Trues:000, Falses: 000"
      ],
      "metadata": {
        "id": "0rN446xvJ1UP"
      }
    },
    {
      "cell_type": "markdown",
      "source": [
        "I started building the function by writing a couple of more simple functions to better understand how each part works so I know where my parameters are at all times when we get to the main function."
      ],
      "metadata": {
        "id": "zcwwv7TZJawm"
      }
    },
    {
      "cell_type": "markdown",
      "source": [
        "#### **First**: we write a function that takes an integer n and find if a prime number exists in the interval ($n^2$ and $(n + 1)^2$). If a prime is found, print out the first one that is found. If not, function returns false"
      ],
      "metadata": {
        "id": "LY9tfQ8WIKwQ"
      }
    },
    {
      "cell_type": "code",
      "source": [
        "def returnPrime(n, nMax):\n",
        "\n",
        "  primeList = fastEratos(nMax)\n",
        "  interval = range(n**2, (n+1)**2)   \n",
        "  \n",
        "  for i in range(len(primeList)):\n",
        "    i += 1\n",
        "    if primeList[i] in interval:\n",
        "      print(\"found prime:\", primeList[i])\n",
        "      break # since we only need at least 1, report the first prime found and exit the loop\n",
        "  else:\n",
        "    return False"
      ],
      "metadata": {
        "id": "TtFaAr7YXdqt"
      },
      "execution_count": null,
      "outputs": []
    },
    {
      "cell_type": "code",
      "source": [
        "returnPrime(500,2500000)"
      ],
      "metadata": {
        "colab": {
          "base_uri": "https://localhost:8080/"
        },
        "id": "xZW42RU0W3fr",
        "outputId": "a6cc7679-3103-45af-eb9b-e29402d74eb2"
      },
      "execution_count": null,
      "outputs": [
        {
          "output_type": "stream",
          "name": "stdout",
          "text": [
            "found prime: 250007\n"
          ]
        }
      ]
    },
    {
      "cell_type": "markdown",
      "source": [
        "#### **2nd**: simply switch out the print statement to \"return True\""
      ],
      "metadata": {
        "id": "yw1vtEOIJDzq"
      }
    },
    {
      "cell_type": "code",
      "source": [
        "def testInterval(n, nMax):\n",
        "\n",
        "  primeList = fastEratos(nMax)\n",
        "  interval = range(n**2, (n+1)**2)   \n",
        "  \n",
        "  for i in range(len(primeList)):\n",
        "    i += 1\n",
        "    if primeList[i] in interval:\n",
        "      return True\n",
        "      break \n",
        "  else:\n",
        "    return False\n"
      ],
      "metadata": {
        "id": "ECCknbT-53Of"
      },
      "execution_count": null,
      "outputs": []
    },
    {
      "cell_type": "code",
      "source": [
        "testInterval(200,300000)"
      ],
      "metadata": {
        "colab": {
          "base_uri": "https://localhost:8080/"
        },
        "id": "r1P7rVxR7ENv",
        "outputId": "62af76cc-b6b5-439f-a30e-bbdb176b655b"
      },
      "execution_count": null,
      "outputs": [
        {
          "output_type": "execute_result",
          "data": {
            "text/plain": [
              "True"
            ]
          },
          "metadata": {},
          "execution_count": 24
        }
      ]
    },
    {
      "cell_type": "markdown",
      "source": [
        "#### **Final version -**\n",
        "\n",
        " write a function that takes the number of integers n to test the conjectrue (numRange), and a big list of prime numbers to search from (nMax). The function will return the number of n's where at least one prime is found and number of n's where no prime is found. If the function returns a false, the conjecture would be false. However, my function doesn't return the integer that is the counterexample"
      ],
      "metadata": {
        "id": "D8tpgaw2M-bM"
      }
    },
    {
      "cell_type": "code",
      "source": [
        "def countTrues(numRange, nMax):\n",
        "   \n",
        "  primeList = fastEratos(nMax)\n",
        "  nums = range(1, numRange)   \n",
        "  Trues = 0\n",
        "  Falses = 0\n",
        "  \n",
        "  for n in range(len(nums)): # for every integer in nums\n",
        "    \n",
        "    n += 1\n",
        "    interval = range(n**2, (n+1)**2)\n",
        "\n",
        "    for i in range(len(primeList)):\n",
        "      i += 1\n",
        "      if primeList[i] in interval: # if a prime number is found in the interval\n",
        "        Trues += 1     # add one to Trues\n",
        "        break          # since we only need to prove at at least one prime exists, go to the next n\n",
        "  \n",
        "    else:\n",
        "      Falses += 1 # if no prime numbers found, add one to Falses\n",
        "    \n",
        "  return Trues, Falses"
      ],
      "metadata": {
        "id": "cuFRh2KX7aGU"
      },
      "execution_count": null,
      "outputs": []
    },
    {
      "cell_type": "code",
      "source": [
        "countTrues(1000,100000000)"
      ],
      "metadata": {
        "colab": {
          "base_uri": "https://localhost:8080/"
        },
        "id": "CR-rkwV9A2kn",
        "outputId": "7b27c114-2144-4397-a91d-4cce49917036"
      },
      "execution_count": null,
      "outputs": [
        {
          "output_type": "execute_result",
          "data": {
            "text/plain": [
              "(999, 0)"
            ]
          },
          "metadata": {},
          "execution_count": 26
        }
      ]
    },
    {
      "cell_type": "markdown",
      "source": [
        "### **Computational evidence is in support of Conjecture C!**\n",
        "\n",
        "We tested 999 integers (1000 excluding zero) and for each n, there is at least one prime found (I tried to increase the number of integer's to test, but even with 5000 integers the session would crash).\n",
        "\n",
        "\n"
      ],
      "metadata": {
        "id": "YEYDSz9KwXAx"
      }
    },
    {
      "cell_type": "markdown",
      "source": [
        "## **Conjecture D**. All odd numbers greater than 1 are either prime, or can be expressed as the sum of a prime and twice a square."
      ],
      "metadata": {
        "id": "qJPla2WfbIMw"
      }
    },
    {
      "cell_type": "markdown",
      "source": [
        "Basic Plan for Conjecture D function:\n",
        "\n",
        "**-input:** nMax  (Odd integers up to nMax)\n",
        "\n",
        "**-iterate over:** non-prime odd integers, numbers that are \"twice a square\"\n",
        "\n",
        "for every non-prime odd integers\n",
        "for every twice a Square\n",
        "\n",
        "**- if twice a square < odd integer:** (we don't want negative remainders)\n",
        "\n",
        "**-Set** :\n",
        " - num = oddNotPrimes [ i ]\n",
        " - twiceSq = twiceSqs [ j ]\n",
        " - diff =  num - twiceSq\n",
        " \n",
        "**-Test:** if diff is in primeList\n",
        "\n",
        "- if yes, **found += 1**, **break**\n",
        "- if not, **notFound += 1**, print out the number that is now a counterexample\n",
        "\n",
        "**Output:** counterexample found: 0000,  (True count,  False count)\n"
      ],
      "metadata": {
        "id": "bkAKDSP4L_XV"
      }
    },
    {
      "cell_type": "markdown",
      "source": [
        "This conjecture has many components. We already have functions that generate lists of primes & odd numbers, and whether or not a number if prime or odd. Now, let's write a function that determines whether an interger is **\"twice a square\"** and generate a list from that"
      ],
      "metadata": {
        "id": "PquEI3RRGCpj"
      }
    },
    {
      "cell_type": "markdown",
      "source": [
        "#### **isTwiceSq(n)** and twiceSqList"
      ],
      "metadata": {
        "id": "dx4jCk-nwkxx"
      }
    },
    {
      "cell_type": "code",
      "source": [
        "def isTwiceSq(n):\n",
        " \n",
        "  square = n /2\n",
        "  root = math.sqrt(square)\n",
        "  \n",
        "  if root % 1 == 0:\n",
        "    return True\n",
        "  else:\n",
        "    return False\n",
        "\n",
        "def twiceSqList(nMax): \n",
        "  \n",
        "  twiceSqList = []\n",
        "\n",
        "  for n in range(1, nMax + 1): # start at 2 since all is greater than 1\n",
        "      if isTwiceSq(n):\n",
        "        twiceSqList.append(n)\n",
        "  \n",
        "  return twiceSqList"
      ],
      "metadata": {
        "id": "8caiiYvxpA-L"
      },
      "execution_count": null,
      "outputs": []
    },
    {
      "cell_type": "code",
      "source": [
        "twiceSqList(200)"
      ],
      "metadata": {
        "colab": {
          "base_uri": "https://localhost:8080/"
        },
        "id": "7L7y5CwI25bU",
        "outputId": "de5ac766-9074-40a2-b2fb-a81493d924a4"
      },
      "execution_count": null,
      "outputs": [
        {
          "output_type": "execute_result",
          "data": {
            "text/plain": [
              "[2, 8, 18, 32, 50, 72, 98, 128, 162, 200]"
            ]
          },
          "metadata": {},
          "execution_count": 30
        }
      ]
    },
    {
      "cell_type": "markdown",
      "source": [
        "Now, the conjecture states that all odd numbers greater than 1 are either prime, or can be expressed as the sum of a prime and twice a square. We can easily eliminate the odd numbers that are also prime and focus on the ones that must have an expression as sum of a prime and twice a square for the conjecture to hold."
      ],
      "metadata": {
        "id": "ILRVDCMPHQpL"
      }
    },
    {
      "cell_type": "markdown",
      "source": [
        "#### **OddNotPrime**"
      ],
      "metadata": {
        "id": "JZ3XO-RnErwu"
      }
    },
    {
      "cell_type": "code",
      "source": [
        "def oddNotPrime(nMax):\n",
        "\n",
        "  oddsList = list(range(3, nMax, 2))\n",
        "  primeList = fastEratos(10000) \n",
        "  oddNotPrimes = []\n",
        "\n",
        "  for i in range(len(oddsList)):\n",
        "    odd = oddsList[i] \n",
        "    i += 1\n",
        "    if isPrime(odd) == False:\n",
        "      oddNotPrimes.append(odd)\n",
        "\n",
        "  return oddNotPrimes"
      ],
      "metadata": {
        "id": "v5Du2RNnqIYz"
      },
      "execution_count": null,
      "outputs": []
    },
    {
      "cell_type": "code",
      "source": [
        "oddNotPrime(50)"
      ],
      "metadata": {
        "colab": {
          "base_uri": "https://localhost:8080/"
        },
        "id": "eI25EU2ZrTYP",
        "outputId": "29209d15-e369-4bf3-a608-88341da4574b"
      },
      "execution_count": null,
      "outputs": [
        {
          "output_type": "execute_result",
          "data": {
            "text/plain": [
              "[9, 15, 21, 25, 27, 33, 35, 39, 45, 49]"
            ]
          },
          "metadata": {},
          "execution_count": 223
        }
      ]
    },
    {
      "cell_type": "markdown",
      "source": [
        "#### **main function**"
      ],
      "metadata": {
        "id": "HisnDdHLEwxc"
      }
    },
    {
      "cell_type": "code",
      "source": [
        "def twiceSquarePrime(nMax):\n",
        "\n",
        "  oddNotPrimes = oddNotPrime(nMax)\n",
        "  twiceSqs = twiceSqList(100000) # set it manually so there won't be 3 different user input max values\n",
        "  primeList = fastEratos(100000) # also set manually\n",
        "  found = 0\n",
        "  notFound = 0\n",
        "\n",
        "  for i in range(len(oddNotPrimes)):\n",
        "    num = oddNotPrimes[i]\n",
        "                  \n",
        "    for j in range(len(twiceSqs)): \n",
        "      twiceSq = twiceSqs[j]\n",
        "      \n",
        "      if twiceSq < num:\n",
        "      \n",
        "        twiceSq = twiceSqs[j]\n",
        "        diff =  num - twiceSq\n",
        "\n",
        "        if diff in primeList:     \n",
        "          found += 1      \n",
        "          break                        \n",
        "        \n",
        "      else:\n",
        "        notFound += 1\n",
        "        print(\"counterexample found:\", num)\n",
        "        break\n",
        "     \n",
        "                \n",
        "  return found, notFound"
      ],
      "metadata": {
        "id": "BAyaWvHwjNkA"
      },
      "execution_count": null,
      "outputs": []
    },
    {
      "cell_type": "code",
      "source": [
        "twiceSquarePrime(10000)"
      ],
      "metadata": {
        "colab": {
          "base_uri": "https://localhost:8080/"
        },
        "id": "qYtsaHhOoDtR",
        "outputId": "7de3fb33-c23a-4b26-f3d7-6d73d749abf8"
      },
      "execution_count": null,
      "outputs": [
        {
          "output_type": "stream",
          "name": "stdout",
          "text": [
            "counterexample found: 5777\n",
            "counterexample found: 5993\n"
          ]
        },
        {
          "output_type": "execute_result",
          "data": {
            "text/plain": [
              "(3769, 2)"
            ]
          },
          "metadata": {},
          "execution_count": 225
        }
      ]
    },
    {
      "cell_type": "markdown",
      "source": [
        "### According to the algorithm, there are in fact **2 counterexamples: 5777 and 5993** that shows that the **conjecture is false!**"
      ],
      "metadata": {
        "id": "Sb0YolhyPJmh"
      }
    }
  ]
}