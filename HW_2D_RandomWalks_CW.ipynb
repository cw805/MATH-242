{
  "nbformat": 4,
  "nbformat_minor": 0,
  "metadata": {
    "colab": {
      "name": "HW_2D RandomWalks_CW",
      "provenance": [],
      "collapsed_sections": [],
      "include_colab_link": true
    },
    "kernelspec": {
      "name": "python3",
      "display_name": "Python 3"
    },
    "language_info": {
      "name": "python"
    }
  },
  "cells": [
    {
      "cell_type": "markdown",
      "metadata": {
        "id": "view-in-github",
        "colab_type": "text"
      },
      "source": [
        "<a href=\"https://colab.research.google.com/github/cw805/MATH-242/blob/main/HW_2D_RandomWalks_CW.ipynb\" target=\"_parent\"><img src=\"https://colab.research.google.com/assets/colab-badge.svg\" alt=\"Open In Colab\"/></a>"
      ]
    },
    {
      "cell_type": "markdown",
      "metadata": {
        "id": "1sz37RJiHzE2"
      },
      "source": [
        "# 2D Random Walks Practice Problems\n",
        "\n",
        "**Learning Goals:** Gain proficiency with Python coding. Explore properties of 2-dimensional random walks.\n",
        "\n",
        "**Your task:** Complete the problem below.\n",
        "\n",
        "**Due:** Wednesday, April 29, at 5:00pm. Do the following to submit your work.\n",
        "\n",
        "1. Click on *Share* in the upper right corner of this window. Make sure your notebook is viewable by Prof. Wright and the course grader(s).\n",
        "2. In the *Get link*, click *Copy link*.\n",
        "3. Go to the [2D Random Walks](https://mdl.stolaf.edu/mod/assign/view.php?id=191525) assignment on Moodle. Paste the link to your notebook in the text field for the assignment submission. This will allow Prof. Wright or either of the course graders to view your Colab notebook.\n",
        "\n",
        "**Grading:** The problem below will be graded on a Satisfactory/Unsatisfactory scale. You will earn a Satisfactory grade by using Python to produce an appropriate plot showing how the average distance from the origin depends on the number of steps.\n",
        "\n",
        "**Need help?** Review the notes from class and Python documentation links on the course web site. If you still need help, email Prof. Wright. Don't forget there are also evening help sessions &mdash; the help session schedule is at the top of the course website.\n"
      ]
    },
    {
      "cell_type": "code",
      "source": [
        "import random\n",
        "import math\n",
        "import numpy as np\n",
        "import matplotlib.pyplot as plt"
      ],
      "metadata": {
        "id": "0exNwUGU9JTq"
      },
      "execution_count": 127,
      "outputs": []
    },
    {
      "cell_type": "markdown",
      "source": [
        "## Problem: 2D distance from origin\n",
        "\n",
        "What is the average distance from the origin after $n$ steps? Simulate many 2D simple symmetric random walks for $n$ steps and compute their average distance from the origin after step $n$. Do this for many values of $n$ and make a plot showing how the average distance from the origin depends on $n$. Summarize your observations."
      ],
      "metadata": {
        "id": "N7X8PLavhIq9"
      }
    },
    {
      "cell_type": "markdown",
      "source": [
        "### Generate a 2D random Walk"
      ],
      "metadata": {
        "id": "6eKCRQVMXXca"
      }
    },
    {
      "cell_type": "code",
      "source": [
        "def randomWalk2D(numSteps):\n",
        "  # define the possible moves at each step\n",
        "  dirs = np.array( [ [1,0], [0,1], [-1,0], [0,-1] ] )\n",
        "\n",
        "  # set up a matrix of zeros to store the locations of the random walk\n",
        "  locations = np.zeros( (numSteps+1, 2) )\n",
        "\n",
        "  # take steps and store locations\n",
        "  for i in range(1, numSteps+1):\n",
        "    r = random.randrange(4)   # random integer 0, 1, 2, 3\n",
        "    move = dirs[r]            # random move\n",
        "    locations[i] = locations[i-1] + move  # store the next location\n",
        "  \n",
        "  return locations"
      ],
      "metadata": {
        "id": "tG6nj3DxXbrS"
      },
      "execution_count": null,
      "outputs": []
    },
    {
      "cell_type": "code",
      "source": [
        "randomWalk2D(4)"
      ],
      "metadata": {
        "colab": {
          "base_uri": "https://localhost:8080/"
        },
        "id": "Lh4ORFayXTKJ",
        "outputId": "0e5433d0-4ad3-462d-8675-b4ca07ad50f2"
      },
      "execution_count": 189,
      "outputs": [
        {
          "output_type": "execute_result",
          "data": {
            "text/plain": [
              "array([[0., 0.],\n",
              "       [0., 1.],\n",
              "       [1., 1.],\n",
              "       [1., 0.],\n",
              "       [2., 0.]])"
            ]
          },
          "metadata": {},
          "execution_count": 189
        }
      ]
    },
    {
      "cell_type": "markdown",
      "source": [
        "### Find Distance from Origin after n steps\n"
      ],
      "metadata": {
        "id": "tuC1h3JPXN5k"
      }
    },
    {
      "cell_type": "code",
      "source": [
        "def distance(numStep):  \n",
        "   \n",
        "  locations = randomWalk2D(numStep) \n",
        "  \n",
        "  # get the x and y coordinates of each position\n",
        "  x = locations[:,0]\n",
        "  y = locations[:,1]\n",
        " \n",
        "  # calculate distance from origin for all points\n",
        "  distance = np.sqrt(x ** 2 + y ** 2)    \n",
        "\n",
        "  # return the point furthest from origin\n",
        "  return max(distance)"
      ],
      "metadata": {
        "id": "ahmvJYrKXjFZ"
      },
      "execution_count": 174,
      "outputs": []
    },
    {
      "cell_type": "code",
      "source": [
        "distance(100)"
      ],
      "metadata": {
        "colab": {
          "base_uri": "https://localhost:8080/"
        },
        "id": "TwS8H2dsa02s",
        "outputId": "eae484a8-42ad-406b-9300-45ba3fef2b65"
      },
      "execution_count": 178,
      "outputs": [
        {
          "output_type": "execute_result",
          "data": {
            "text/plain": [
              "11.180339887498949"
            ]
          },
          "metadata": {},
          "execution_count": 178
        }
      ]
    },
    {
      "cell_type": "code",
      "source": [
        "def avgDist(numSteps, numWalks):\n",
        " \n",
        "  total = 0\n",
        "  \n",
        "  for i in range(numWalks):\n",
        "    total += distance(numSteps)\n",
        "\n",
        "  return total/numWalks"
      ],
      "metadata": {
        "id": "VpqalaXqY75f"
      },
      "execution_count": 185,
      "outputs": []
    },
    {
      "cell_type": "code",
      "source": [
        "avgDist(1000,50)"
      ],
      "metadata": {
        "colab": {
          "base_uri": "https://localhost:8080/"
        },
        "id": "-fMgEevQZVg5",
        "outputId": "332d9efa-8e8e-461d-f43c-8c1655311b22"
      },
      "execution_count": 186,
      "outputs": [
        {
          "output_type": "execute_result",
          "data": {
            "text/plain": [
              "39.06817590493895"
            ]
          },
          "metadata": {},
          "execution_count": 186
        }
      ]
    },
    {
      "cell_type": "code",
      "source": [
        "# get a list of average distances\n",
        "avgDistList = [avgDist(n, 500) for n in range(2,100)]"
      ],
      "metadata": {
        "id": "cm3OE22TbD00"
      },
      "execution_count": 200,
      "outputs": []
    },
    {
      "cell_type": "code",
      "source": [
        "plt.plot(range(2,200), avgDistList)\n",
        "plt.xlabel(\"number of steps\")\n",
        "plt.ylabel(\"average distance\");"
      ],
      "metadata": {
        "colab": {
          "base_uri": "https://localhost:8080/",
          "height": 279
        },
        "id": "8b2rYax1bLrU",
        "outputId": "42b34056-9656-444d-c273-602f4b89c851"
      },
      "execution_count": 198,
      "outputs": [
        {
          "output_type": "display_data",
          "data": {
            "text/plain": [
              "<Figure size 432x288 with 1 Axes>"
            ],
            "image/png": "[encoded data removed]"
          },
          "metadata": {
            "needs_background": "light"
          }
        }
      ]
    },
    {
      "cell_type": "markdown",
      "source": [
        "Similar to what we found in 1D random walks, the plot looks like a squared root function, we can try to square the average distances"
      ],
      "metadata": {
        "id": "wE1r-Ae9cm8X"
      }
    },
    {
      "cell_type": "code",
      "source": [
        "squaredDist = [d**2 for d in avgDistList]\n",
        "\n",
        "plt.plot(range(2,100), squaredDist)\n",
        "plt.xlabel(\"number of steps\")\n",
        "plt.ylabel(\"average diameter squared\");"
      ],
      "metadata": {
        "colab": {
          "base_uri": "https://localhost:8080/",
          "height": 279
        },
        "id": "vFqBFiRtcM02",
        "outputId": "c01cdb2d-444d-40ba-cf3e-8b955cad5dfb"
      },
      "execution_count": 201,
      "outputs": [
        {
          "output_type": "display_data",
          "data": {
            "text/plain": [
              "<Figure size 432x288 with 1 Axes>"
            ],
            "image/png": "[encoded data removed]"
          },
          "metadata": {
            "needs_background": "light"
          }
        }
      ]
    },
    {
      "cell_type": "markdown",
      "source": [
        "The plot is also linear! The higher the number of steps, the further the distance because it has more time to go further away from the origin. Also, the rate of increase in average distances seems slower in 2D random walks"
      ],
      "metadata": {
        "id": "lo4gzX8Dc_3o"
      }
    }
  ]
}