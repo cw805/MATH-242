{
  "nbformat": 4,
  "nbformat_minor": 0,
  "metadata": {
    "colab": {
      "name": "1D Random Walks",
      "provenance": [],
      "collapsed_sections": [],
      "include_colab_link": true
    },
    "kernelspec": {
      "name": "python3",
      "display_name": "Python 3"
    }
  },
  "cells": [
    {
      "cell_type": "markdown",
      "metadata": {
        "id": "view-in-github",
        "colab_type": "text"
      },
      "source": [
        "<a href=\"https://colab.research.google.com/github/cw805/MATH-242/blob/main/1D_Random_Walks.ipynb\" target=\"_parent\"><img src=\"https://colab.research.google.com/assets/colab-badge.svg\" alt=\"Open In Colab\"/></a>"
      ]
    },
    {
      "cell_type": "markdown",
      "metadata": {
        "id": "Dw9MUwqX1V5Q"
      },
      "source": [
        "# Random Walks\n",
        "\n",
        "Imagine you are standing at the origin of a number line. You flip a fair coin. If the coin lands heads, you move to +1. If the coin lands tails, you move to -1. You flip the coin again and again. Whenever it lands heads, you move 1 unit in the positive direction. Whenever it lands tails, you move 1 unit in the negative direction. Your path on the number line is called a **one-dimensional random walk**.\n",
        "\n",
        "What does a one-dimensional random walk look like? Let's create some with Python!"
      ]
    },
    {
      "cell_type": "code",
      "metadata": {
        "id": "PP94UEeLLaik"
      },
      "source": [
        "# import the modules that we will use\n",
        "import random\n",
        "import math"
      ],
      "execution_count": null,
      "outputs": []
    },
    {
      "cell_type": "markdown",
      "metadata": {
        "id": "XXVWdTV3_LdX"
      },
      "source": [
        "## 1. Building a Random Walk\n",
        "\n",
        "First, import the `random` module. Then use `random.choice([-1,1])` to simulate one step of the random walk. Try it out:"
      ]
    },
    {
      "cell_type": "code",
      "metadata": {
        "id": "GgpSxyD81UjA"
      },
      "source": [
        ""
      ],
      "execution_count": null,
      "outputs": []
    },
    {
      "cell_type": "markdown",
      "metadata": {
        "id": "sQx4cVd-2kEA"
      },
      "source": [
        "Now simulate 100 steps of the random walk. Create a list called `locations` consisting of one hundred 0s. The first 0 is the starting location; the other 0s are placeholders for later locations. Compute each location after the first by choosing a +1 or -1 step at random and adding it to the previous location."
      ]
    },
    {
      "cell_type": "code",
      "metadata": {
        "id": "rOv-A09T13QE"
      },
      "source": [
        ""
      ],
      "execution_count": null,
      "outputs": []
    },
    {
      "cell_type": "markdown",
      "metadata": {
        "id": "XsIPhKoy_vxi"
      },
      "source": [
        "Next, make a plot of the random walk. The horizontal axis will give the number of steps, and the vertical axis will give the location at each step."
      ]
    },
    {
      "cell_type": "code",
      "metadata": {
        "id": "0Ivf6z6s3IZR"
      },
      "source": [
        ""
      ],
      "execution_count": null,
      "outputs": []
    },
    {
      "cell_type": "markdown",
      "metadata": {
        "id": "qvWT-JsO__Ag"
      },
      "source": [
        "We will need to generate a lot of random walks. To make this easy, write a function that returns a random walk. Here is the specification for your function:\n",
        "\n",
        "**Function**: `randomWalk`\n",
        "\n",
        "**Input**: number of steps\n",
        "\n",
        "**Output**: a random walk, returned as a list of positions"
      ]
    },
    {
      "cell_type": "code",
      "metadata": {
        "id": "vvnJ0Q2R3JXi"
      },
      "source": [
        "def randomWalk():\n",
        "  # your code here\n",
        "\n"
      ],
      "execution_count": null,
      "outputs": []
    },
    {
      "cell_type": "markdown",
      "metadata": {
        "id": "P-wyP0gx5yUY"
      },
      "source": [
        "## 2. Diameter of a Random Walk\n",
        "\n",
        "The **diameter** of a random walk is the difference between the maximum and minimum locations in the walk. \n",
        "\n",
        "Write a function that computes the diameter of a random walk. The input to your function should be a random walk (i.e., a list), and your function should return the diameter of the walk.\n",
        "\n",
        "Note that Python has built-in functions `min` and `max` that return the minimum and maximum values in a list."
      ]
    },
    {
      "cell_type": "code",
      "metadata": {
        "id": "DUSMy2RI6upQ"
      },
      "source": [
        "def diameter(aWalk):\n",
        "  # your code here"
      ],
      "execution_count": null,
      "outputs": []
    },
    {
      "cell_type": "markdown",
      "metadata": {
        "id": "UCnHRg3OhFmz"
      },
      "source": [
        "Compute the average diameter for a bunch of random walks, all with the same number of steps. (You might want to write a function to do this.)"
      ]
    },
    {
      "cell_type": "code",
      "metadata": {
        "id": "fGjb09RfhD8G"
      },
      "source": [
        ""
      ],
      "execution_count": null,
      "outputs": []
    },
    {
      "cell_type": "markdown",
      "metadata": {
        "id": "ecKHA9yU8HfI"
      },
      "source": [
        "**How does the diameter depend on the number of steps?**\n",
        "\n",
        "Create a plot that shows the average diameter of a random walk as a function of the number of steps. Make a conjecture for the growth rate of the average diameter."
      ]
    },
    {
      "cell_type": "code",
      "metadata": {
        "id": "dt66QAcC8bVT"
      },
      "source": [
        ""
      ],
      "execution_count": null,
      "outputs": []
    },
    {
      "cell_type": "markdown",
      "metadata": {
        "id": "Aa9smncMjqeA"
      },
      "source": [
        "## 3. Number of Visits to Origin\n",
        "\n",
        "How often does a random walk return to the origin? \n",
        "\n",
        "Count the number of times that the random walk returns to the origin in, say, the first 1000 steps. \n",
        "\n",
        "Note that Python lists have a `count` function that counts the number of occurrences of an item in the list. This function is a *method* of the Python list object, so it is accessed like this:\n",
        "\n",
        "`list.count(x)`\n",
        "\n",
        "where `x` is the item that you want to count in `list`."
      ]
    },
    {
      "cell_type": "code",
      "metadata": {
        "id": "z6W8zI_x9Ows"
      },
      "source": [
        ""
      ],
      "execution_count": null,
      "outputs": []
    },
    {
      "cell_type": "markdown",
      "metadata": {
        "id": "polUlMTgkW1O"
      },
      "source": [
        "Simulate a bunch of random walks with the same number of steps. For each, count the number of times that it returns to the origin. Make a histogram of the counts."
      ]
    },
    {
      "cell_type": "code",
      "metadata": {
        "id": "B31tHvneCCNt"
      },
      "source": [
        ""
      ],
      "execution_count": null,
      "outputs": []
    },
    {
      "cell_type": "markdown",
      "metadata": {
        "id": "SPzPKwOEkwie"
      },
      "source": [
        "**How does the number of visits to the origin depend on the number of steps?**\n",
        "\n",
        "Create a plot that shows the average number of visits to the origin as a function of the number of steps. Make a conjecture for the growth rate of the average number of visits to the origin."
      ]
    },
    {
      "cell_type": "code",
      "metadata": {
        "id": "iJMVExurCW9G"
      },
      "source": [
        ""
      ],
      "execution_count": null,
      "outputs": []
    },
    {
      "cell_type": "markdown",
      "metadata": {
        "id": "Y8nf1JdW-M1D"
      },
      "source": [
        "## 4. Distribution of Locations\n",
        "\n",
        "How often does a random walk visit each position on the number line? Start your investigation by making histogram showing the distribution of positions in a random walk. Run your code several times to see histograms for different random walks, with various numbers of steps."
      ]
    },
    {
      "cell_type": "code",
      "metadata": {
        "id": "zeUCcLhPcDIn"
      },
      "source": [
        ""
      ],
      "execution_count": null,
      "outputs": []
    },
    {
      "cell_type": "markdown",
      "metadata": {
        "id": "gpPCuLWQdePH"
      },
      "source": [
        "Would the distribution be different if we combine the position lists from multiple random walks?\n",
        "\n",
        "Generate many random walks and combine their positions into a single list. Then make a histogram of the values in this big list. Make a conjecture about what sort of distribution you find.\n",
        "\n",
        "Note that in Python, the + operator concatenates lists."
      ]
    },
    {
      "cell_type": "code",
      "metadata": {
        "id": "81hy8o2vcH5D"
      },
      "source": [
        ""
      ],
      "execution_count": null,
      "outputs": []
    },
    {
      "cell_type": "markdown",
      "metadata": {
        "id": "_bNGSpOcnUhT"
      },
      "source": [
        "## 5. Investigate your own questions!\n",
        "\n",
        "What questions do you have about one-dimensional random walks? Investigate!\n",
        "\n",
        "You could also try modifying the procedure for generating random walks. For example, instead of steps of +1 and -1 with equal probability, you could try some other way of producing random steps."
      ]
    },
    {
      "cell_type": "code",
      "metadata": {
        "id": "-A5LE5_vqssn"
      },
      "source": [
        ""
      ],
      "execution_count": null,
      "outputs": []
    }
  ]
}